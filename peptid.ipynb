{
 "cells": [
  {
   "cell_type": "code",
   "execution_count": 10,
   "metadata": {},
   "outputs": [],
   "source": [
    "def PrefixMass(peptid, aminoacids):\n",
    "    pm = [0]\n",
    "    for i in range(len(peptid)):\n",
    "        p = peptid[i]\n",
    "        pm.append(aminoacids[p] + pm[i])\n",
    "    return pm"
   ]
  },
  {
   "cell_type": "code",
   "execution_count": 18,
   "metadata": {},
   "outputs": [],
   "source": [
    "def CyclicSpectrum(pm):\n",
    "    l = len(pm) - 1\n",
    "    peptm = pm[l]\n",
    "    CyclicSpectrum = [0]\n",
    "    for i in range(l):\n",
    "        for j in range(i+1, l+1):\n",
    "            CyclicSpectrum.append(pm[j] - pm[i])\n",
    "            if i > 0 and j < l:\n",
    "                CyclicSpectrum.append(peptm - (pm[j] - pm[i]))\n",
    "    return sorted(CyclicSpectrum)"
   ]
  },
  {
   "cell_type": "code",
   "execution_count": 17,
   "metadata": {},
   "outputs": [],
   "source": [
    "def Score(TheorSpectrum, spectr):\n",
    "    score = 0\n",
    "    for i in TheorSpectrum:\n",
    "        for j in spectr:\n",
    "            if abs(i - j) < 2:\n",
    "                score += 1\n",
    "                continue\n",
    "    return score"
   ]
  },
  {
   "cell_type": "code",
   "execution_count": 13,
   "metadata": {},
   "outputs": [],
   "source": [
    "aminoacids = {'G': 57, 'A': 71, 'S': 87, 'P': 97, 'V': 99, 'T': 101, 'C': 103,\n",
    "               'I': 113, 'L': 113, 'N': 114, 'O': 114, 'D': 115, 'K': 128, 'Q': 128,\n",
    "               'E': 129, 'M': 131, 'H': 137, 'F': 147, 'R': 156, 'Y': 163, 'W': 186}\n",
    "\n",
    "spectr = [371.5, 375.4, 390.4, 392.2, 409.0, 420.2, 427.2, 443.3, 446.4, 461.3,\n",
    "                471.4, 477.4, 491.3, 505.3, 506.4, 519.2, 536.1, 546.5, 553.3, 562.3,\n",
    "                588.2, 600.3, 616.2, 617.4, 618.3, 633.4, 634.4, 636.2, 651.5, 652.4,\n",
    "                702.5, 703.4, 712.5, 718.3, 721.0, 730.3, 749.4, 762.6, 763.4, 764.4,\n",
    "                779.6, 780.4, 781.4, 782.2, 797.3, 862.4, 876.4, 877.4, 878.6, 879.4,\n",
    "                893.4, 894.4, 895.4, 896.5, 927.4, 944.4, 975.5, 976.5, 977.4, 979.4,\n",
    "                1005.5, 1007.5, 1022.5, 1023.7, 1024.5, 1039.5, 1040.3, 1042.5, 1043.4, 1057.5,\n",
    "                1119.6, 1120.6, 1137.6, 1138.6, 1139.5, 1156.5, 1157.6, 1168.6, 1171.6, 1185.4,\n",
    "                1220.6, 1222.5, 1223.6, 1239.6, 1240.6, 1250.5, 1256.5, 1266.5, 1267.5, 1268.6]\n",
    "\n",
    "tyrocidins = {'A': 'NQYVOLFPFF', 'B': 'NQYVOLFPWP', 'B1': 'NQYVKLFPWP', 'C': 'NQYVOLFPWW', 'C1': 'NQYVOLFPWW', 'D': 'NQYVKLFPWW'}"
   ]
  },
  {
   "cell_type": "code",
   "execution_count": 19,
   "metadata": {},
   "outputs": [],
   "source": [
    "TheorSpectrum = dict()\n",
    "for p in tyrocidins:\n",
    "    prefixMass = PrefixMass(tyrocidins[p], aminoacids)\n",
    "    TheorSpectrum[p] = CyclicSpectrum(prefixMass)\n",
    "\n",
    "Scores = dict()\n",
    "for p in TheorSpectrum:\n",
    "    Scores[p] = Score(TheorSpectrum[p], spectr)\n",
    "\n",
    "MaxScoreP = ''\n",
    "MaxScore = 0\n",
    "for p in Scores:\n",
    "    if Scores[p] > MaxScore:\n",
    "        MaxScore = Scores[p]\n",
    "        MaxScoreP = p"
   ]
  },
  {
   "cell_type": "code",
   "execution_count": 20,
   "metadata": {},
   "outputs": [
    {
     "name": "stdout",
     "output_type": "stream",
     "text": [
      "Тироцидин A\n"
     ]
    }
   ],
   "source": [
    "if abs(PrefixMass(tyrocidins[MaxScoreP], aminoacids)[-1] - spectr[-1]) < 2:\n",
    "    print('Тироцидин', MaxScoreP)"
   ]
  },
  {
   "cell_type": "code",
   "execution_count": null,
   "metadata": {},
   "outputs": [],
   "source": []
  },
  {
   "cell_type": "code",
   "execution_count": null,
   "metadata": {},
   "outputs": [],
   "source": []
  }
 ],
 "metadata": {
  "kernelspec": {
   "display_name": "Python 2",
   "language": "python",
   "name": "python2"
  },
  "language_info": {
   "codemirror_mode": {
    "name": "ipython",
    "version": 2
   },
   "file_extension": ".py",
   "mimetype": "text/x-python",
   "name": "python",
   "nbconvert_exporter": "python",
   "pygments_lexer": "ipython2",
   "version": "2.7.16"
  }
 },
 "nbformat": 4,
 "nbformat_minor": 2
}
