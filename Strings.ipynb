{
 "cells": [
  {
   "cell_type": "code",
   "execution_count": 21,
   "metadata": {},
   "outputs": [
    {
     "name": "stdout",
     "output_type": "stream",
     "text": [
      "3\n"
     ]
    }
   ],
   "source": [
    "text = 'nlfwekfnwekjbdjkn m,nm xxzxcccvert3qweqwrwqeqwrq'\n",
    "n = len(t)\n",
    "result_length  = 0\n",
    "index = 0\n",
    "LCSR = [[0]*(n+1) for i in range(n+1)]\n",
    "for i in range(1, n):\n",
    "    for j in range(i+1, n):\n",
    "        if text[i-1] == text[j-1]:\n",
    "            LCSR[i][j] = LCSR[i-1][j-1]+ 1\n",
    "            if LCSR[i][j] > result_length:\n",
    "                result_length = LCSR[i][j]\n",
    "                index = max(i, index)\n",
    "        else:\n",
    "             LCSR[i][j] = 0\n",
    "print(result_length)"
   ]
  },
  {
   "cell_type": "code",
   "execution_count": 22,
   "metadata": {},
   "outputs": [],
   "source": [
    "result = ''\n",
    "if result_length > 0:\n",
    "    for i in range(index - res_length + 1, index +1 ):\n",
    "        result+=t[i-1]"
   ]
  },
  {
   "cell_type": "code",
   "execution_count": 23,
   "metadata": {},
   "outputs": [
    {
     "name": "stdout",
     "output_type": "stream",
     "text": [
      "fnwj\n"
     ]
    }
   ],
   "source": [
    "print(result)"
   ]
  },
  {
   "cell_type": "code",
   "execution_count": null,
   "metadata": {},
   "outputs": [],
   "source": []
  }
 ],
 "metadata": {
  "kernelspec": {
   "display_name": "Python 2",
   "language": "python",
   "name": "python2"
  },
  "language_info": {
   "codemirror_mode": {
    "name": "ipython",
    "version": 2
   },
   "file_extension": ".py",
   "mimetype": "text/x-python",
   "name": "python",
   "nbconvert_exporter": "python",
   "pygments_lexer": "ipython2",
   "version": "2.7.16"
  }
 },
 "nbformat": 4,
 "nbformat_minor": 2
}
